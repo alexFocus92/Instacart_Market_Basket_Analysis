{
 "cells": [
  {
   "cell_type": "markdown",
   "metadata": {
    "_cell_guid": "e42ebc38-a4c5-4b46-9428-580472762c68",
    "_uuid": "8b30c0db606799ef38190315c0246c5d4d3ce992"
   },
   "source": [
    "# Análisis exploratorio no supervisado"
   ]
  },
  {
   "cell_type": "markdown",
   "metadata": {
    "_cell_guid": "37e3d647-2362-4862-b487-5e13f6dcb088",
    "_uuid": "559cfcf6a17fcf2364de0883b0dec213218fa16f"
   },
   "source": [
    "En este segundo notebook intentaré encontrar una **posible segmentación de clientes** que permita clasificar a los clientes según sus diferentes compras. \n",
    "\n",
    "Espero que esta información sea útil para realizar el próximo punto del proyecto, el modelo supervisado. \n",
    "\n",
    "Como hay miles de productos en el conjunto de datos, me basaré de los pasillos y departamentos, que representan categorías de productos. Incluso con las funciones de los pasillos será demasiado, así que usaré el **Análisis de componentes principales para encontrar nuevas dimensiones** a lo largo de las cuales el agrupamiento pueda ser más fácil. \n",
    "\n",
    "Más adelante trataré de encontrar posibles diferencias entre los grupos identificados."
   ]
  },
  {
   "cell_type": "markdown",
   "metadata": {
    "_cell_guid": "abcaa3b6-be7a-4f76-a24c-15c0edc3e33f",
    "_uuid": "360c8ccf2e79617825648de15a9a40c0bc0ed2d9"
   },
   "source": [
    "## Carga de librerías y ficheros"
   ]
  },
  {
   "cell_type": "code",
   "execution_count": 4,
   "metadata": {
    "_cell_guid": "6817395f-75f0-48e3-b68a-89ba0c98d8b0",
    "_execution_state": "idle",
    "_uuid": "75c7b0e6d3755164b0ded68f3a8b06678a377c17"
   },
   "outputs": [],
   "source": [
    "import numpy as np \n",
    "import pandas as pd \n",
    "# Para clusterizar los datos\n",
    "from sklearn.cluster import KMeans\n",
    "from sklearn.metrics import silhouette_score\n",
    "from sklearn.decomposition import PCA\n",
    "#Para realizar graficas de los datos\n",
    "from matplotlib import pyplot as plt\n",
    "import matplotlib\n",
    "from mpl_toolkits.mplot3d import Axes3D\n",
    "from mpl_toolkits.mplot3d import proj3d"
   ]
  },
  {
   "cell_type": "code",
   "execution_count": 5,
   "metadata": {
    "_cell_guid": "0b56a723-0435-48d4-b035-f08cdfe901f7",
    "_execution_state": "idle",
    "_uuid": "fee02fa30daf545226727f2dd9273a8c2e61330a"
   },
   "outputs": [],
   "source": [
    "# Tablas de ordenes\n",
    "orders = pd.read_csv('../../DATOS/orders.csv')\n",
    "prior = pd.read_csv('../../DATOS/order_products__prior.csv')\n",
    "##Para poder trabajar en mi ordenador mas agilmente he decidido reducir el número de muestras usadas \n",
    "prior = prior[0:500000]\n",
    "#Dado que se trata de un analisis exploratorio solo necesitare los datos de entrada y no es necesario cargar los de train\n",
    "#train = pd.read_csv('../../DATOS/order_products__train.csv')\n",
    "# Tablas de productos\n",
    "products = pd.read_csv('../../DATOS/products.csv')\n",
    "aisles = pd.read_csv('../../DATOS/aisles.csv')\n",
    "departments = pd.read_csv('../../DATOS/departments.csv')"
   ]
  },
  {
   "cell_type": "markdown",
   "metadata": {
    "_cell_guid": "abf9a156-f3b1-4186-8b2d-e340fae24eec",
    "_uuid": "914f62949a7f9fafc6287ec876d0dea3fe91539a"
   },
   "source": [
    "#### Explicacion de datos que utilizaré para la clusterización:\n",
    "\n",
    "* los **usuarios** son identificados por **user_id** en el archivo csv de pedidos. Cada fila de las órdenes representa una orden realizada por un usuario. Los **pedidos se identifican por order_id**.\n",
    "\n",
    "* **cada pedido consta de un conjunto de productos**, cada uno caracterizado por una variable **add_to_cart_order** que representa la secuencia en la que se han agregado al carrito en ese orden;\n",
    "\n",
    "* **para cada usuario podemos tener** n-1 pedidos anteriores y 1 pedido de entrenamiento O n-1 pedidos anteriores y 1 pedido de prueba en el que tenemos que indicar qué productos se han reordenado."
   ]
  },
  {
   "cell_type": "markdown",
   "metadata": {},
   "source": [
    "### Generación de tabla única\n",
    "\n",
    "Dado que para este proyecto partimos de tablas auxiliares voy a unir distintas tablas en una con la que poder trabajar la cual llamare MT (Multi Tabla) y ordenaré por usuario.\n",
    "\n",
    "Añado las tablas que tienen los datos informativos (PRODUCT, AISLES) para traducir el ID de producto y el de tipo\n",
    "Despues he procedido a unirlas en una unica tabla\n",
    "\n",
    "PRIOR + ORDER + PRODUCT + AISLES = MT\n"
   ]
  },
  {
   "cell_type": "code",
   "execution_count": 6,
   "metadata": {
    "_cell_guid": "a82843b6-2dd2-455c-b165-b286d8661b95",
    "_execution_state": "idle",
    "_uuid": "7e282306416e570ff6ce8b0c201de136ad7546bc"
   },
   "outputs": [
    {
     "data": {
      "text/html": [
       "<div>\n",
       "<style scoped>\n",
       "    .dataframe tbody tr th:only-of-type {\n",
       "        vertical-align: middle;\n",
       "    }\n",
       "\n",
       "    .dataframe tbody tr th {\n",
       "        vertical-align: top;\n",
       "    }\n",
       "\n",
       "    .dataframe thead th {\n",
       "        text-align: right;\n",
       "    }\n",
       "</style>\n",
       "<table border=\"1\" class=\"dataframe\">\n",
       "  <thead>\n",
       "    <tr style=\"text-align: right;\">\n",
       "      <th></th>\n",
       "      <th>order_id</th>\n",
       "      <th>product_id</th>\n",
       "      <th>add_to_cart_order</th>\n",
       "      <th>reordered</th>\n",
       "      <th>user_id</th>\n",
       "      <th>eval_set</th>\n",
       "      <th>order_number</th>\n",
       "      <th>order_dow</th>\n",
       "      <th>order_hour_of_day</th>\n",
       "      <th>days_since_prior_order</th>\n",
       "      <th>product_name</th>\n",
       "      <th>aisle_id</th>\n",
       "      <th>department_id</th>\n",
       "      <th>aisle</th>\n",
       "      <th>department</th>\n",
       "    </tr>\n",
       "  </thead>\n",
       "  <tbody>\n",
       "    <tr>\n",
       "      <th>0</th>\n",
       "      <td>23391</td>\n",
       "      <td>13198</td>\n",
       "      <td>1</td>\n",
       "      <td>1</td>\n",
       "      <td>7</td>\n",
       "      <td>prior</td>\n",
       "      <td>17</td>\n",
       "      <td>0</td>\n",
       "      <td>10</td>\n",
       "      <td>28.0</td>\n",
       "      <td>85% Lean Ground Beef</td>\n",
       "      <td>122</td>\n",
       "      <td>12</td>\n",
       "      <td>meat counter</td>\n",
       "      <td>meat seafood</td>\n",
       "    </tr>\n",
       "    <tr>\n",
       "      <th>1</th>\n",
       "      <td>50222</td>\n",
       "      <td>13198</td>\n",
       "      <td>5</td>\n",
       "      <td>1</td>\n",
       "      <td>2165</td>\n",
       "      <td>prior</td>\n",
       "      <td>2</td>\n",
       "      <td>6</td>\n",
       "      <td>10</td>\n",
       "      <td>30.0</td>\n",
       "      <td>85% Lean Ground Beef</td>\n",
       "      <td>122</td>\n",
       "      <td>12</td>\n",
       "      <td>meat counter</td>\n",
       "      <td>meat seafood</td>\n",
       "    </tr>\n",
       "    <tr>\n",
       "      <th>2</th>\n",
       "      <td>5932</td>\n",
       "      <td>13198</td>\n",
       "      <td>6</td>\n",
       "      <td>1</td>\n",
       "      <td>5030</td>\n",
       "      <td>prior</td>\n",
       "      <td>10</td>\n",
       "      <td>2</td>\n",
       "      <td>11</td>\n",
       "      <td>6.0</td>\n",
       "      <td>85% Lean Ground Beef</td>\n",
       "      <td>122</td>\n",
       "      <td>12</td>\n",
       "      <td>meat counter</td>\n",
       "      <td>meat seafood</td>\n",
       "    </tr>\n",
       "    <tr>\n",
       "      <th>3</th>\n",
       "      <td>38991</td>\n",
       "      <td>13198</td>\n",
       "      <td>7</td>\n",
       "      <td>1</td>\n",
       "      <td>6351</td>\n",
       "      <td>prior</td>\n",
       "      <td>3</td>\n",
       "      <td>4</td>\n",
       "      <td>16</td>\n",
       "      <td>30.0</td>\n",
       "      <td>85% Lean Ground Beef</td>\n",
       "      <td>122</td>\n",
       "      <td>12</td>\n",
       "      <td>meat counter</td>\n",
       "      <td>meat seafood</td>\n",
       "    </tr>\n",
       "    <tr>\n",
       "      <th>4</th>\n",
       "      <td>4339</td>\n",
       "      <td>13198</td>\n",
       "      <td>26</td>\n",
       "      <td>0</td>\n",
       "      <td>6409</td>\n",
       "      <td>prior</td>\n",
       "      <td>23</td>\n",
       "      <td>0</td>\n",
       "      <td>7</td>\n",
       "      <td>8.0</td>\n",
       "      <td>85% Lean Ground Beef</td>\n",
       "      <td>122</td>\n",
       "      <td>12</td>\n",
       "      <td>meat counter</td>\n",
       "      <td>meat seafood</td>\n",
       "    </tr>\n",
       "  </tbody>\n",
       "</table>\n",
       "</div>"
      ],
      "text/plain": [
       "   order_id  product_id  add_to_cart_order  reordered  user_id eval_set  \\\n",
       "0     23391       13198                  1          1        7    prior   \n",
       "1     50222       13198                  5          1     2165    prior   \n",
       "2      5932       13198                  6          1     5030    prior   \n",
       "3     38991       13198                  7          1     6351    prior   \n",
       "4      4339       13198                 26          0     6409    prior   \n",
       "\n",
       "   order_number  order_dow  order_hour_of_day  days_since_prior_order  \\\n",
       "0            17          0                 10                    28.0   \n",
       "1             2          6                 10                    30.0   \n",
       "2            10          2                 11                     6.0   \n",
       "3             3          4                 16                    30.0   \n",
       "4            23          0                  7                     8.0   \n",
       "\n",
       "           product_name  aisle_id  department_id         aisle    department  \n",
       "0  85% Lean Ground Beef       122             12  meat counter  meat seafood  \n",
       "1  85% Lean Ground Beef       122             12  meat counter  meat seafood  \n",
       "2  85% Lean Ground Beef       122             12  meat counter  meat seafood  \n",
       "3  85% Lean Ground Beef       122             12  meat counter  meat seafood  \n",
       "4  85% Lean Ground Beef       122             12  meat counter  meat seafood  "
      ]
     },
     "execution_count": 6,
     "metadata": {},
     "output_type": "execute_result"
    }
   ],
   "source": [
    "order_prior = pd.merge(prior,orders,on=['order_id','order_id'])\n",
    "order_prior = order_prior.sort_values(by=['user_id','order_id'])\n",
    "order_prior_mt = pd.merge(order_prior,products, on = ['product_id','product_id'])\n",
    "#order_prior_mt = pd.merge(order_prior_mt,orders,on=['order_id','order_id'])\n",
    "mt_1 = pd.merge(order_prior_mt,aisles,on=['aisle_id','aisle_id'])\n",
    "mt = pd.merge(mt_1,departments,on=['department_id','department_id'])\n",
    "#order_prior_mt.head(5)\n",
    "mt.head(5)"
   ]
  },
  {
   "cell_type": "markdown",
   "metadata": {},
   "source": [
    "### Análisis previo a la clusterización\n",
    "Ahora voy a comprobar cuales son los **productos más demandados** y la cantidad de estos.\n"
   ]
  },
  {
   "cell_type": "code",
   "execution_count": 10,
   "metadata": {
    "_cell_guid": "7ff79fab-ca32-47b2-8234-08ae88413688",
    "_execution_state": "idle",
    "_uuid": "447d546ef6bfd2bd41cb55a658693eb8963f32ee"
   },
   "outputs": [
    {
     "data": {
      "text/plain": [
       "Banana                    7365\n",
       "Bag of Organic Bananas    5920\n",
       "Organic Strawberries      4023\n",
       "Organic Baby Spinach      3797\n",
       "Organic Hass Avocado      3317\n",
       "Organic Avocado           2712\n",
       "Large Lemon               2355\n",
       "Strawberries              2225\n",
       "Organic Raspberries       2177\n",
       "Limes                     2116\n",
       "Name: product_name, dtype: int64"
      ]
     },
     "execution_count": 10,
     "metadata": {},
     "output_type": "execute_result"
    }
   ],
   "source": [
    "len(mt['product_name'].unique())\n",
    "mt['product_name'].value_counts()[0:10]"
   ]
  },
  {
   "cell_type": "markdown",
   "metadata": {
    "_cell_guid": "db5b895b-e405-4b81-a9e4-1d92a421ca38",
    "_uuid": "e5535781a21bb6e9d07a0184c22ffb889ea59304"
   },
   "source": [
    "Las frutas frescas y las verduras frescas son los productos más vendidos.\n",
    "\n",
    "Buscamos **cuantos tipos de productos diferentes hay por pasillo y departamento**"
   ]
  },
  {
   "cell_type": "code",
   "execution_count": 11,
   "metadata": {
    "_cell_guid": "c0ba7d89-3f7f-42c7-887d-84b6e71425bc",
    "_execution_state": "idle",
    "_uuid": "fb148a7e7977afff8351813f3dc724e9153be8b5"
   },
   "outputs": [
    {
     "name": "stdout",
     "output_type": "stream",
     "text": [
      "Pasillos distintos 134\n",
      "Departamentos distintos 21\n"
     ]
    }
   ],
   "source": [
    "print 'Pasillos distintos', len(mt['aisle'].unique())\n",
    "print 'Departamentos distintos', len(mt['department'].unique())"
   ]
  },
  {
   "cell_type": "code",
   "execution_count": 12,
   "metadata": {
    "_cell_guid": "ed3c36ed-8097-46dc-8782-f06d54c5e040",
    "_execution_state": "idle",
    "_uuid": "45eb1d82d900122914dcf077c6af081e782f0046"
   },
   "outputs": [
    {
     "name": "stdout",
     "output_type": "stream",
     "text": [
      "PASILLOS:\r\n",
      "\r\n",
      "fresh fruits                     56326\n",
      "fresh vegetables                 52073\n",
      "packaged vegetables fruits       27347\n",
      "yogurt                           22485\n",
      "packaged cheese                  14960\n",
      "milk                             13715\n",
      "water seltzer sparkling water    12778\n",
      "chips pretzels                   10982\n",
      "soy lactosefree                  10056\n",
      "bread                             9240\n",
      "Name: aisle, dtype: int64 \r\n",
      "\r\n",
      "\n",
      "DEPARTAMENTOS:\r\n",
      "\r\n",
      "produce            145463\n",
      "dairy eggs          83779\n",
      "snacks              44513\n",
      "beverages           41613\n",
      "frozen              34773\n",
      "pantry              28652\n",
      "bakery              18205\n",
      "canned goods        16370\n",
      "deli                16220\n",
      "dry goods pasta     13171\n",
      "Name: department, dtype: int64\n"
     ]
    }
   ],
   "source": [
    "print 'PASILLOS:\\r\\n\\r\\n', mt['aisle'].value_counts()[0:10], '\\r\\n\\r\\n'\n",
    "print 'DEPARTAMENTOS:\\r\\n\\r\\n',mt['department'].value_counts()[0:10]"
   ]
  },
  {
   "cell_type": "markdown",
   "metadata": {
    "_cell_guid": "61700713-cee0-437f-af1d-5e98c2603637",
    "_uuid": "6e55dc3d7855d492072e458a929e890e8ca4e83d"
   },
   "source": [
    "Quiero encontrar un posible **clúster entre los diferentes clientes** y sustituir el ID de usuario único con el clúster al que se supone que pertenecen. Espero que esto **aumente el rendimiento del próximo modelo de predicción**.\n",
    "\n",
    "Lo primero que debe hacer es crear un **DataFrame**, para ello usaré pandas con todas las compras realizadas por cada usuario organizadas por pasillo."
   ]
  },
  {
   "cell_type": "code",
   "execution_count": 15,
   "metadata": {},
   "outputs": [
    {
     "name": "stdout",
     "output_type": "stream",
     "text": [
      "Rango del dataframe (39834, 134)\n"
     ]
    },
    {
     "data": {
      "text/html": [
       "<div>\n",
       "<style scoped>\n",
       "    .dataframe tbody tr th:only-of-type {\n",
       "        vertical-align: middle;\n",
       "    }\n",
       "\n",
       "    .dataframe tbody tr th {\n",
       "        vertical-align: top;\n",
       "    }\n",
       "\n",
       "    .dataframe thead th {\n",
       "        text-align: right;\n",
       "    }\n",
       "</style>\n",
       "<table border=\"1\" class=\"dataframe\">\n",
       "  <thead>\n",
       "    <tr style=\"text-align: right;\">\n",
       "      <th>aisle</th>\n",
       "      <th>air fresheners candles</th>\n",
       "      <th>asian foods</th>\n",
       "      <th>baby accessories</th>\n",
       "      <th>baby bath body care</th>\n",
       "      <th>baby food formula</th>\n",
       "      <th>bakery desserts</th>\n",
       "      <th>baking ingredients</th>\n",
       "      <th>baking supplies decor</th>\n",
       "      <th>beauty</th>\n",
       "      <th>beers coolers</th>\n",
       "      <th>...</th>\n",
       "      <th>spreads</th>\n",
       "      <th>tea</th>\n",
       "      <th>tofu meat alternatives</th>\n",
       "      <th>tortillas flat bread</th>\n",
       "      <th>trail mix snack mix</th>\n",
       "      <th>trash bags liners</th>\n",
       "      <th>vitamins supplements</th>\n",
       "      <th>water seltzer sparkling water</th>\n",
       "      <th>white wines</th>\n",
       "      <th>yogurt</th>\n",
       "    </tr>\n",
       "    <tr>\n",
       "      <th>user_id</th>\n",
       "      <th></th>\n",
       "      <th></th>\n",
       "      <th></th>\n",
       "      <th></th>\n",
       "      <th></th>\n",
       "      <th></th>\n",
       "      <th></th>\n",
       "      <th></th>\n",
       "      <th></th>\n",
       "      <th></th>\n",
       "      <th></th>\n",
       "      <th></th>\n",
       "      <th></th>\n",
       "      <th></th>\n",
       "      <th></th>\n",
       "      <th></th>\n",
       "      <th></th>\n",
       "      <th></th>\n",
       "      <th></th>\n",
       "      <th></th>\n",
       "      <th></th>\n",
       "    </tr>\n",
       "  </thead>\n",
       "  <tbody>\n",
       "    <tr>\n",
       "      <th>7</th>\n",
       "      <td>0</td>\n",
       "      <td>0</td>\n",
       "      <td>0</td>\n",
       "      <td>0</td>\n",
       "      <td>0</td>\n",
       "      <td>0</td>\n",
       "      <td>0</td>\n",
       "      <td>0</td>\n",
       "      <td>0</td>\n",
       "      <td>0</td>\n",
       "      <td>...</td>\n",
       "      <td>0</td>\n",
       "      <td>0</td>\n",
       "      <td>0</td>\n",
       "      <td>0</td>\n",
       "      <td>0</td>\n",
       "      <td>0</td>\n",
       "      <td>0</td>\n",
       "      <td>0</td>\n",
       "      <td>0</td>\n",
       "      <td>0</td>\n",
       "    </tr>\n",
       "    <tr>\n",
       "      <th>13</th>\n",
       "      <td>0</td>\n",
       "      <td>0</td>\n",
       "      <td>0</td>\n",
       "      <td>0</td>\n",
       "      <td>0</td>\n",
       "      <td>0</td>\n",
       "      <td>1</td>\n",
       "      <td>0</td>\n",
       "      <td>0</td>\n",
       "      <td>0</td>\n",
       "      <td>...</td>\n",
       "      <td>0</td>\n",
       "      <td>0</td>\n",
       "      <td>0</td>\n",
       "      <td>1</td>\n",
       "      <td>0</td>\n",
       "      <td>0</td>\n",
       "      <td>0</td>\n",
       "      <td>0</td>\n",
       "      <td>0</td>\n",
       "      <td>0</td>\n",
       "    </tr>\n",
       "    <tr>\n",
       "      <th>23</th>\n",
       "      <td>0</td>\n",
       "      <td>0</td>\n",
       "      <td>0</td>\n",
       "      <td>0</td>\n",
       "      <td>0</td>\n",
       "      <td>0</td>\n",
       "      <td>0</td>\n",
       "      <td>0</td>\n",
       "      <td>1</td>\n",
       "      <td>0</td>\n",
       "      <td>...</td>\n",
       "      <td>0</td>\n",
       "      <td>0</td>\n",
       "      <td>0</td>\n",
       "      <td>0</td>\n",
       "      <td>0</td>\n",
       "      <td>0</td>\n",
       "      <td>0</td>\n",
       "      <td>1</td>\n",
       "      <td>0</td>\n",
       "      <td>4</td>\n",
       "    </tr>\n",
       "    <tr>\n",
       "      <th>27</th>\n",
       "      <td>0</td>\n",
       "      <td>0</td>\n",
       "      <td>0</td>\n",
       "      <td>0</td>\n",
       "      <td>0</td>\n",
       "      <td>0</td>\n",
       "      <td>0</td>\n",
       "      <td>0</td>\n",
       "      <td>0</td>\n",
       "      <td>0</td>\n",
       "      <td>...</td>\n",
       "      <td>0</td>\n",
       "      <td>0</td>\n",
       "      <td>0</td>\n",
       "      <td>0</td>\n",
       "      <td>0</td>\n",
       "      <td>0</td>\n",
       "      <td>0</td>\n",
       "      <td>1</td>\n",
       "      <td>0</td>\n",
       "      <td>4</td>\n",
       "    </tr>\n",
       "    <tr>\n",
       "      <th>36</th>\n",
       "      <td>0</td>\n",
       "      <td>0</td>\n",
       "      <td>0</td>\n",
       "      <td>0</td>\n",
       "      <td>0</td>\n",
       "      <td>0</td>\n",
       "      <td>0</td>\n",
       "      <td>0</td>\n",
       "      <td>0</td>\n",
       "      <td>1</td>\n",
       "      <td>...</td>\n",
       "      <td>0</td>\n",
       "      <td>0</td>\n",
       "      <td>0</td>\n",
       "      <td>0</td>\n",
       "      <td>0</td>\n",
       "      <td>0</td>\n",
       "      <td>0</td>\n",
       "      <td>0</td>\n",
       "      <td>0</td>\n",
       "      <td>0</td>\n",
       "    </tr>\n",
       "  </tbody>\n",
       "</table>\n",
       "<p>5 rows × 134 columns</p>\n",
       "</div>"
      ],
      "text/plain": [
       "aisle    air fresheners candles  asian foods  baby accessories  \\\n",
       "user_id                                                          \n",
       "7                             0            0                 0   \n",
       "13                            0            0                 0   \n",
       "23                            0            0                 0   \n",
       "27                            0            0                 0   \n",
       "36                            0            0                 0   \n",
       "\n",
       "aisle    baby bath body care  baby food formula  bakery desserts  \\\n",
       "user_id                                                            \n",
       "7                          0                  0                0   \n",
       "13                         0                  0                0   \n",
       "23                         0                  0                0   \n",
       "27                         0                  0                0   \n",
       "36                         0                  0                0   \n",
       "\n",
       "aisle    baking ingredients  baking supplies decor  beauty  beers coolers  \\\n",
       "user_id                                                                     \n",
       "7                         0                      0       0              0   \n",
       "13                        1                      0       0              0   \n",
       "23                        0                      0       1              0   \n",
       "27                        0                      0       0              0   \n",
       "36                        0                      0       0              1   \n",
       "\n",
       "aisle     ...    spreads  tea  tofu meat alternatives  tortillas flat bread  \\\n",
       "user_id   ...                                                                 \n",
       "7         ...          0    0                       0                     0   \n",
       "13        ...          0    0                       0                     1   \n",
       "23        ...          0    0                       0                     0   \n",
       "27        ...          0    0                       0                     0   \n",
       "36        ...          0    0                       0                     0   \n",
       "\n",
       "aisle    trail mix snack mix  trash bags liners  vitamins supplements  \\\n",
       "user_id                                                                 \n",
       "7                          0                  0                     0   \n",
       "13                         0                  0                     0   \n",
       "23                         0                  0                     0   \n",
       "27                         0                  0                     0   \n",
       "36                         0                  0                     0   \n",
       "\n",
       "aisle    water seltzer sparkling water  white wines  yogurt  \n",
       "user_id                                                      \n",
       "7                                    0            0       0  \n",
       "13                                   0            0       0  \n",
       "23                                   1            0       4  \n",
       "27                                   1            0       4  \n",
       "36                                   0            0       0  \n",
       "\n",
       "[5 rows x 134 columns]"
      ]
     },
     "execution_count": 15,
     "metadata": {},
     "output_type": "execute_result"
    }
   ],
   "source": [
    "# Por Pasillo\n",
    "cust_prod = pd.crosstab(mt['user_id'], mt['aisle'])\n",
    "print 'Rango del dataframe', cust_prod.shape\n",
    "cust_prod.head(5)\n"
   ]
  },
  {
   "cell_type": "markdown",
   "metadata": {
    "_cell_guid": "5c931139-ed8a-4bbb-a0ac-f82718810729",
    "_uuid": "ee299ef2107490e9529eec3c482d4200c798c557"
   },
   "source": [
    "Ahora ejecutaré un **Análisis de componentes principales** en el Data Frame obtenido. Esto reducirá el número de funciones del número de pasillos a 6, el número de componentes principales que he elegido.\n",
    "\n",
    "Para ello usaré **PCA: Principal Component Análisis**"
   ]
  },
  {
   "cell_type": "code",
   "execution_count": 16,
   "metadata": {
    "_cell_guid": "944ee4b7-2619-405d-9118-df799e4880c6",
    "_execution_state": "idle",
    "_uuid": "2b4de9f6e010a90bf623fa44a57bd40b4aaba6cc"
   },
   "outputs": [
    {
     "data": {
      "text/html": [
       "<div>\n",
       "<style scoped>\n",
       "    .dataframe tbody tr th:only-of-type {\n",
       "        vertical-align: middle;\n",
       "    }\n",
       "\n",
       "    .dataframe tbody tr th {\n",
       "        vertical-align: top;\n",
       "    }\n",
       "\n",
       "    .dataframe thead th {\n",
       "        text-align: right;\n",
       "    }\n",
       "</style>\n",
       "<table border=\"1\" class=\"dataframe\">\n",
       "  <thead>\n",
       "    <tr style=\"text-align: right;\">\n",
       "      <th></th>\n",
       "      <th>0</th>\n",
       "      <th>1</th>\n",
       "      <th>2</th>\n",
       "      <th>3</th>\n",
       "      <th>4</th>\n",
       "      <th>5</th>\n",
       "    </tr>\n",
       "  </thead>\n",
       "  <tbody>\n",
       "    <tr>\n",
       "      <th>0</th>\n",
       "      <td>-0.434904</td>\n",
       "      <td>0.964055</td>\n",
       "      <td>-1.085494</td>\n",
       "      <td>-0.804552</td>\n",
       "      <td>-0.461699</td>\n",
       "      <td>-1.123651</td>\n",
       "    </tr>\n",
       "    <tr>\n",
       "      <th>1</th>\n",
       "      <td>-2.163437</td>\n",
       "      <td>-0.472227</td>\n",
       "      <td>-0.130003</td>\n",
       "      <td>0.238158</td>\n",
       "      <td>0.045775</td>\n",
       "      <td>-0.175864</td>\n",
       "    </tr>\n",
       "    <tr>\n",
       "      <th>2</th>\n",
       "      <td>-1.316257</td>\n",
       "      <td>1.287541</td>\n",
       "      <td>3.167225</td>\n",
       "      <td>0.659952</td>\n",
       "      <td>-0.599893</td>\n",
       "      <td>-1.081665</td>\n",
       "    </tr>\n",
       "    <tr>\n",
       "      <th>3</th>\n",
       "      <td>-1.588246</td>\n",
       "      <td>1.262179</td>\n",
       "      <td>3.217635</td>\n",
       "      <td>1.250336</td>\n",
       "      <td>-0.408611</td>\n",
       "      <td>-0.299575</td>\n",
       "    </tr>\n",
       "    <tr>\n",
       "      <th>4</th>\n",
       "      <td>-2.262804</td>\n",
       "      <td>-0.397136</td>\n",
       "      <td>-0.112548</td>\n",
       "      <td>0.289925</td>\n",
       "      <td>-0.004481</td>\n",
       "      <td>-0.063747</td>\n",
       "    </tr>\n",
       "  </tbody>\n",
       "</table>\n",
       "</div>"
      ],
      "text/plain": [
       "          0         1         2         3         4         5\n",
       "0 -0.434904  0.964055 -1.085494 -0.804552 -0.461699 -1.123651\n",
       "1 -2.163437 -0.472227 -0.130003  0.238158  0.045775 -0.175864\n",
       "2 -1.316257  1.287541  3.167225  0.659952 -0.599893 -1.081665\n",
       "3 -1.588246  1.262179  3.217635  1.250336 -0.408611 -0.299575\n",
       "4 -2.262804 -0.397136 -0.112548  0.289925 -0.004481 -0.063747"
      ]
     },
     "execution_count": 16,
     "metadata": {},
     "output_type": "execute_result"
    }
   ],
   "source": [
    "# Para reducir el número de funciones voy a emplear decomposition de la librería scikit-learn (sklearn)\n",
    "from sklearn.decomposition import PCA\n",
    "pca = PCA(n_components=6)\n",
    "pca.fit(cust_prod)\n",
    "pca_samples = pca.transform(cust_prod)\n",
    "ps = pd.DataFrame(pca_samples)\n",
    "ps.head()"
   ]
  },
  {
   "cell_type": "markdown",
   "metadata": {
    "_cell_guid": "02de6e2c-77c5-4b16-bdb6-c76125bf57ba",
    "_uuid": "e5e778abd7ce0650ed516d38fa0cd9e365001994"
   },
   "source": [
    "He ilustrado varios pares de componentes buscando el adecuado para un agrupamiento de KMeans. **He elegido el par (PC4, PC2)**. Dado que cada componente es la proyección de todos los puntos del conjunto de los datos, creo que cada componente es representativo del conjunto de datos.\n",
    "\n",
    "### Clusterización de los Datos "
   ]
  },
  {
   "cell_type": "code",
   "execution_count": 17,
   "metadata": {
    "_cell_guid": "063d8eae-13d0-4633-b8c2-a9912033d27d",
    "_execution_state": "idle",
    "_uuid": "1e157bb70951befafe1e3c41b1f9023c7b5205a9"
   },
   "outputs": [
    {
     "name": "stdout",
     "output_type": "stream",
     "text": [
      "(39834, 2)\n",
      "          4         2\n",
      "0 -0.461699 -1.085494\n",
      "1  0.045775 -0.130003\n",
      "2 -0.599893  3.167225\n",
      "3 -0.408611  3.217635\n",
      "4 -0.004481 -0.112548\n"
     ]
    },
    {
     "data": {
      "image/png": "[encoded data removed]",
      "text/plain": [
       "<Figure size 576x576 with 1 Axes>"
      ]
     },
     "metadata": {
      "needs_background": "light"
     },
     "output_type": "display_data"
    }
   ],
   "source": [
    "tocluster = pd.DataFrame(ps[[4,2]])\n",
    "print (tocluster.shape)\n",
    "print (tocluster.head())\n",
    "\n",
    "fig = plt.figure(figsize=(8,8))\n",
    "plt.plot(tocluster[4], tocluster[2], 'o', markersize=2, color='gold', alpha=0.5, label='class1')\n",
    "\n",
    "plt.xlabel('eje X')\n",
    "plt.ylabel('eje Y')\n",
    "plt.legend()\n",
    "plt.show()"
   ]
  },
  {
   "cell_type": "code",
   "execution_count": 26,
   "metadata": {
    "_cell_guid": "46916624-0f1e-45b4-9c58-3a749bc7e850",
    "_execution_state": "idle",
    "_uuid": "9ec8b63031a55ef7ca1980cc296e195ce1c8c81b"
   },
   "outputs": [
    {
     "name": "stdout",
     "output_type": "stream",
     "text": [
      "Centros de los 4 grupos: \n",
      "[[-0.03475716  0.14502587]\n",
      " [-0.35227731  2.95874639]\n",
      " [ 6.20773515  0.70266183]\n",
      " [-0.12118023 -1.14341434]] \n",
      "\n",
      "Predicciones: \n",
      "[3 0 1 1 0 0 0 3 0 0 0 3 0 0 1 0 0 1 3 0 0 3 0 0 2 0 3 3 3 0 0 0 0 0 3 3 3\n",
      " 1 0 0 0 0 0 0 0 0 0 0 3 0 3 3 0 0 3 0 0 0 1 3 0 1 3 0 0 0 0 1 0 1 3 3 0 0\n",
      " 0 3 0 0 2 1 3 0 0 3 0 0 0 3 0 0 0 0 1 3 0 0 3 0 0 0]\n"
     ]
    }
   ],
   "source": [
    "#Ahora calcularé el centro de cada uno de los 4 grupos en los uqe voy a dividir los datos\n",
    "clusterer = KMeans(n_clusters=4,random_state=42).fit(tocluster)\n",
    "centers = clusterer.cluster_centers_\n",
    "c_preds = clusterer.predict(tocluster)\n",
    "print 'Centros de los 4 grupos: \\n', (centers), '\\n'\n",
    "print 'Predicciones: \\n',(c_preds[0:100])"
   ]
  },
  {
   "cell_type": "markdown",
   "metadata": {
    "_cell_guid": "1dd87800-ede5-46b9-b278-a68662e5e1b3",
    "_uuid": "4b9f5a1e2324b3b8649c970d959068dbe9feb937"
   },
   "source": [
    "Así es como aparecen los clusters creados."
   ]
  },
  {
   "cell_type": "code",
   "execution_count": 27,
   "metadata": {
    "_cell_guid": "e3f8e5e9-ed1f-45eb-a26b-1a6d6e61630d",
    "_execution_state": "idle",
    "_uuid": "ce81e1923509f0ed42a2a59c1b35db0242d8624f",
    "scrolled": false
   },
   "outputs": [
    {
     "name": "stdout",
     "output_type": "stream",
     "text": [
      "['green', 'yellow', 'blue', 'blue', 'yellow', 'yellow', 'yellow', 'green', 'yellow', 'yellow']\n"
     ]
    },
    {
     "data": {
      "image/png": "[encoded data removed]",
      "text/plain": [
       "<Figure size 576x576 with 1 Axes>"
      ]
     },
     "metadata": {
      "needs_background": "light"
     },
     "output_type": "display_data"
    }
   ],
   "source": [
    "fig = plt.figure(figsize=(8,8))\n",
    "colors = ['yellow','blue','silver','green']\n",
    "colored = [colors[k] for k in c_preds]\n",
    "print (colored[0:10])\n",
    "plt.scatter(tocluster[4],tocluster[2],  color = colored)\n",
    "for ci,c in enumerate(centers):\n",
    "    plt.plot(c[0], c[1], 'o', markersize=8, color='red', alpha=0.9, label=''+str(ci))\n",
    "\n",
    "plt.xlabel('Eje X')\n",
    "plt.ylabel('Eje Y')\n",
    "plt.legend()\n",
    "plt.show()"
   ]
  },
  {
   "cell_type": "markdown",
   "metadata": {
    "_cell_guid": "bbffbeac-8002-400b-a2ae-8030978895c9",
    "_uuid": "9280a6d2ec5ab4cac875035f98efb36ac121c86d"
   },
   "source": [
    "He encontrado un posible agrupamiento en clúster para nuestros clientes. Comprobaré si también puedo encontrar algún **patrón** interesante debajo de él.\n"
   ]
  },
  {
   "cell_type": "code",
   "execution_count": 32,
   "metadata": {
    "_cell_guid": "cfc8d6a5-9458-4bb7-ae1e-0af49ada625f",
    "_execution_state": "idle",
    "_uuid": "d13fb574653bc558362b8ad1d9ccfbe1fa2593a9"
   },
   "outputs": [
    {
     "data": {
      "text/html": [
       "<div>\n",
       "<style scoped>\n",
       "    .dataframe tbody tr th:only-of-type {\n",
       "        vertical-align: middle;\n",
       "    }\n",
       "\n",
       "    .dataframe tbody tr th {\n",
       "        vertical-align: top;\n",
       "    }\n",
       "\n",
       "    .dataframe thead th {\n",
       "        text-align: right;\n",
       "    }\n",
       "</style>\n",
       "<table border=\"1\" class=\"dataframe\">\n",
       "  <thead>\n",
       "    <tr style=\"text-align: right;\">\n",
       "      <th>aisle</th>\n",
       "      <th>air fresheners candles</th>\n",
       "      <th>asian foods</th>\n",
       "      <th>baby accessories</th>\n",
       "      <th>baby bath body care</th>\n",
       "      <th>baby food formula</th>\n",
       "      <th>bakery desserts</th>\n",
       "      <th>baking ingredients</th>\n",
       "      <th>baking supplies decor</th>\n",
       "      <th>beauty</th>\n",
       "      <th>beers coolers</th>\n",
       "      <th>...</th>\n",
       "      <th>tea</th>\n",
       "      <th>tofu meat alternatives</th>\n",
       "      <th>tortillas flat bread</th>\n",
       "      <th>trail mix snack mix</th>\n",
       "      <th>trash bags liners</th>\n",
       "      <th>vitamins supplements</th>\n",
       "      <th>water seltzer sparkling water</th>\n",
       "      <th>white wines</th>\n",
       "      <th>yogurt</th>\n",
       "      <th>cluster</th>\n",
       "    </tr>\n",
       "    <tr>\n",
       "      <th>user_id</th>\n",
       "      <th></th>\n",
       "      <th></th>\n",
       "      <th></th>\n",
       "      <th></th>\n",
       "      <th></th>\n",
       "      <th></th>\n",
       "      <th></th>\n",
       "      <th></th>\n",
       "      <th></th>\n",
       "      <th></th>\n",
       "      <th></th>\n",
       "      <th></th>\n",
       "      <th></th>\n",
       "      <th></th>\n",
       "      <th></th>\n",
       "      <th></th>\n",
       "      <th></th>\n",
       "      <th></th>\n",
       "      <th></th>\n",
       "      <th></th>\n",
       "      <th></th>\n",
       "    </tr>\n",
       "  </thead>\n",
       "  <tbody>\n",
       "    <tr>\n",
       "      <th>7</th>\n",
       "      <td>0</td>\n",
       "      <td>0</td>\n",
       "      <td>0</td>\n",
       "      <td>0</td>\n",
       "      <td>0</td>\n",
       "      <td>0</td>\n",
       "      <td>0</td>\n",
       "      <td>0</td>\n",
       "      <td>0</td>\n",
       "      <td>0</td>\n",
       "      <td>...</td>\n",
       "      <td>0</td>\n",
       "      <td>0</td>\n",
       "      <td>0</td>\n",
       "      <td>0</td>\n",
       "      <td>0</td>\n",
       "      <td>0</td>\n",
       "      <td>0</td>\n",
       "      <td>0</td>\n",
       "      <td>0</td>\n",
       "      <td>3</td>\n",
       "    </tr>\n",
       "    <tr>\n",
       "      <th>13</th>\n",
       "      <td>0</td>\n",
       "      <td>0</td>\n",
       "      <td>0</td>\n",
       "      <td>0</td>\n",
       "      <td>0</td>\n",
       "      <td>0</td>\n",
       "      <td>1</td>\n",
       "      <td>0</td>\n",
       "      <td>0</td>\n",
       "      <td>0</td>\n",
       "      <td>...</td>\n",
       "      <td>0</td>\n",
       "      <td>0</td>\n",
       "      <td>1</td>\n",
       "      <td>0</td>\n",
       "      <td>0</td>\n",
       "      <td>0</td>\n",
       "      <td>0</td>\n",
       "      <td>0</td>\n",
       "      <td>0</td>\n",
       "      <td>0</td>\n",
       "    </tr>\n",
       "    <tr>\n",
       "      <th>23</th>\n",
       "      <td>0</td>\n",
       "      <td>0</td>\n",
       "      <td>0</td>\n",
       "      <td>0</td>\n",
       "      <td>0</td>\n",
       "      <td>0</td>\n",
       "      <td>0</td>\n",
       "      <td>0</td>\n",
       "      <td>1</td>\n",
       "      <td>0</td>\n",
       "      <td>...</td>\n",
       "      <td>0</td>\n",
       "      <td>0</td>\n",
       "      <td>0</td>\n",
       "      <td>0</td>\n",
       "      <td>0</td>\n",
       "      <td>0</td>\n",
       "      <td>1</td>\n",
       "      <td>0</td>\n",
       "      <td>4</td>\n",
       "      <td>1</td>\n",
       "    </tr>\n",
       "    <tr>\n",
       "      <th>27</th>\n",
       "      <td>0</td>\n",
       "      <td>0</td>\n",
       "      <td>0</td>\n",
       "      <td>0</td>\n",
       "      <td>0</td>\n",
       "      <td>0</td>\n",
       "      <td>0</td>\n",
       "      <td>0</td>\n",
       "      <td>0</td>\n",
       "      <td>0</td>\n",
       "      <td>...</td>\n",
       "      <td>0</td>\n",
       "      <td>0</td>\n",
       "      <td>0</td>\n",
       "      <td>0</td>\n",
       "      <td>0</td>\n",
       "      <td>0</td>\n",
       "      <td>1</td>\n",
       "      <td>0</td>\n",
       "      <td>4</td>\n",
       "      <td>1</td>\n",
       "    </tr>\n",
       "    <tr>\n",
       "      <th>36</th>\n",
       "      <td>0</td>\n",
       "      <td>0</td>\n",
       "      <td>0</td>\n",
       "      <td>0</td>\n",
       "      <td>0</td>\n",
       "      <td>0</td>\n",
       "      <td>0</td>\n",
       "      <td>0</td>\n",
       "      <td>0</td>\n",
       "      <td>1</td>\n",
       "      <td>...</td>\n",
       "      <td>0</td>\n",
       "      <td>0</td>\n",
       "      <td>0</td>\n",
       "      <td>0</td>\n",
       "      <td>0</td>\n",
       "      <td>0</td>\n",
       "      <td>0</td>\n",
       "      <td>0</td>\n",
       "      <td>0</td>\n",
       "      <td>0</td>\n",
       "    </tr>\n",
       "  </tbody>\n",
       "</table>\n",
       "<p>5 rows × 135 columns</p>\n",
       "</div>"
      ],
      "text/plain": [
       "aisle    air fresheners candles  asian foods  baby accessories  \\\n",
       "user_id                                                          \n",
       "7                             0            0                 0   \n",
       "13                            0            0                 0   \n",
       "23                            0            0                 0   \n",
       "27                            0            0                 0   \n",
       "36                            0            0                 0   \n",
       "\n",
       "aisle    baby bath body care  baby food formula  bakery desserts  \\\n",
       "user_id                                                            \n",
       "7                          0                  0                0   \n",
       "13                         0                  0                0   \n",
       "23                         0                  0                0   \n",
       "27                         0                  0                0   \n",
       "36                         0                  0                0   \n",
       "\n",
       "aisle    baking ingredients  baking supplies decor  beauty  beers coolers  \\\n",
       "user_id                                                                     \n",
       "7                         0                      0       0              0   \n",
       "13                        1                      0       0              0   \n",
       "23                        0                      0       1              0   \n",
       "27                        0                      0       0              0   \n",
       "36                        0                      0       0              1   \n",
       "\n",
       "aisle     ...     tea  tofu meat alternatives  tortillas flat bread  \\\n",
       "user_id   ...                                                         \n",
       "7         ...       0                       0                     0   \n",
       "13        ...       0                       0                     1   \n",
       "23        ...       0                       0                     0   \n",
       "27        ...       0                       0                     0   \n",
       "36        ...       0                       0                     0   \n",
       "\n",
       "aisle    trail mix snack mix  trash bags liners  vitamins supplements  \\\n",
       "user_id                                                                 \n",
       "7                          0                  0                     0   \n",
       "13                         0                  0                     0   \n",
       "23                         0                  0                     0   \n",
       "27                         0                  0                     0   \n",
       "36                         0                  0                     0   \n",
       "\n",
       "aisle    water seltzer sparkling water  white wines  yogurt  cluster  \n",
       "user_id                                                               \n",
       "7                                    0            0       0        3  \n",
       "13                                   0            0       0        0  \n",
       "23                                   1            0       4        1  \n",
       "27                                   1            0       4        1  \n",
       "36                                   0            0       0        0  \n",
       "\n",
       "[5 rows x 135 columns]"
      ]
     },
     "execution_count": 32,
     "metadata": {},
     "output_type": "execute_result"
    }
   ],
   "source": [
    "clust_prod = cust_prod.copy()\n",
    "clust_prod['cluster'] = c_preds\n",
    "clust_prod.head(5)"
   ]
  },
  {
   "cell_type": "code",
   "execution_count": 33,
   "metadata": {
    "_cell_guid": "0c9fdddb-2d74-4da9-a025-42b903f770e8",
    "_execution_state": "idle",
    "_uuid": "dcc0afffea962eb6ecbad8e3a3c0a19f944f8773"
   },
   "outputs": [
    {
     "name": "stdout",
     "output_type": "stream",
     "text": [
      "(39834, 135)\n"
     ]
    },
    {
     "data": {
      "image/png": "[encoded data removed]",
      "text/plain": [
       "<Figure size 432x432 with 4 Axes>"
      ]
     },
     "metadata": {
      "needs_background": "light"
     },
     "output_type": "display_data"
    }
   ],
   "source": [
    "print (clust_prod.shape)\n",
    "f,arr = plt.subplots(2,2,sharex=True,figsize=(6,6))\n",
    "\n",
    "c1_count = len(clust_prod[clust_prod['cluster']==0])\n",
    "\n",
    "c0 = clust_prod[clust_prod['cluster']==0].drop('cluster',axis=1).mean()\n",
    "arr[0,0].bar(range(len(clust_prod.drop('cluster',axis=1).columns)),c0)\n",
    "c1 = clust_prod[clust_prod['cluster']==1].drop('cluster',axis=1).mean()\n",
    "arr[0,1].bar(range(len(clust_prod.drop('cluster',axis=1).columns)),c1)\n",
    "c2 = clust_prod[clust_prod['cluster']==2].drop('cluster',axis=1).mean()\n",
    "arr[1,0].bar(range(len(clust_prod.drop('cluster',axis=1).columns)),c2)\n",
    "c3 = clust_prod[clust_prod['cluster']==3].drop('cluster',axis=1).mean()\n",
    "arr[1,1].bar(range(len(clust_prod.drop('cluster',axis=1).columns)),c3)\n",
    "plt.show()\n"
   ]
  },
  {
   "cell_type": "markdown",
   "metadata": {
    "_cell_guid": "2b01383b-c50a-4d7a-9b26-fc56096e50c8",
    "_uuid": "80eabe05a2e84746be60b59367ce60c702c3cb61"
   },
   "source": [
    "Veamos cuáles son los 10 productos principales comprados por las personas de cada grupo. Primero vamos a confiar en los datos absolutos y luego en un porcentaje entre los 8 productos principales de cada grupo."
   ]
  },
  {
   "cell_type": "code",
   "execution_count": 34,
   "metadata": {
    "_cell_guid": "fe829fd7-59b2-4356-ae8e-241f45626dda",
    "_execution_state": "idle",
    "_uuid": "2e71424ff03ef18ea9827401ba10e71705529981"
   },
   "outputs": [
    {
     "name": "stdout",
     "output_type": "stream",
     "text": [
      "Grupo 0: \r\n",
      "\n"
     ]
    },
    {
     "data": {
      "text/plain": [
       "aisle\n",
       "fresh vegetables                 1.191141\n",
       "fresh fruits                     0.735781\n",
       "packaged vegetables fruits       0.540676\n",
       "yogurt                           0.378858\n",
       "packaged cheese                  0.344301\n",
       "water seltzer sparkling water    0.310667\n",
       "milk                             0.301047\n",
       "chips pretzels                   0.259563\n",
       "soy lactosefree                  0.215154\n",
       "bread                            0.204957\n",
       "dtype: float64"
      ]
     },
     "execution_count": 34,
     "metadata": {},
     "output_type": "execute_result"
    }
   ],
   "source": [
    "print 'Grupo 0: \\r\\n'\n",
    "c0.sort_values(ascending=False)[0:10]"
   ]
  },
  {
   "cell_type": "code",
   "execution_count": 35,
   "metadata": {
    "_cell_guid": "534842f7-65ea-4f57-9b1d-0cd25248bb65",
    "_execution_state": "idle",
    "_uuid": "7f6c163e534f1fadad36eb4fc2e73fe97c017f50"
   },
   "outputs": [
    {
     "name": "stdout",
     "output_type": "stream",
     "text": [
      "Grupo 1: \r\n",
      "\n"
     ]
    },
    {
     "data": {
      "text/plain": [
       "aisle\n",
       "yogurt                           3.813603\n",
       "fresh vegetables                 2.187132\n",
       "fresh fruits                     1.563603\n",
       "packaged vegetables fruits       1.066912\n",
       "packaged cheese                  0.808456\n",
       "milk                             0.682353\n",
       "water seltzer sparkling water    0.581250\n",
       "chips pretzels                   0.535294\n",
       "energy granola bars              0.496691\n",
       "refrigerated                     0.481618\n",
       "dtype: float64"
      ]
     },
     "execution_count": 35,
     "metadata": {},
     "output_type": "execute_result"
    }
   ],
   "source": [
    "print 'Grupo 1: \\r\\n'\n",
    "c1.sort_values(ascending=False)[0:10]"
   ]
  },
  {
   "cell_type": "code",
   "execution_count": 36,
   "metadata": {
    "_cell_guid": "0932bdc7-55be-43a3-b35c-f45bea00c829",
    "_execution_state": "idle",
    "_uuid": "348dbe14caa7e3a584b5ddc254642ca49199b61f"
   },
   "outputs": [
    {
     "name": "stdout",
     "output_type": "stream",
     "text": [
      "Grupo 2: \r\n",
      "\n"
     ]
    },
    {
     "data": {
      "text/plain": [
       "aisle\n",
       "baby food formula             6.755424\n",
       "fresh fruits                  2.850099\n",
       "fresh vegetables              2.157791\n",
       "yogurt                        1.392505\n",
       "packaged vegetables fruits    1.159763\n",
       "packaged cheese               0.881657\n",
       "milk                          0.747535\n",
       "soy lactosefree               0.477318\n",
       "chips pretzels                0.457594\n",
       "bread                         0.437870\n",
       "dtype: float64"
      ]
     },
     "execution_count": 36,
     "metadata": {},
     "output_type": "execute_result"
    }
   ],
   "source": [
    "print 'Grupo 2: \\r\\n'\n",
    "c2.sort_values(ascending=False)[0:10]"
   ]
  },
  {
   "cell_type": "code",
   "execution_count": 37,
   "metadata": {
    "_cell_guid": "37d219c8-b92b-471e-ad9a-683bc05e22ed",
    "_execution_state": "idle",
    "_uuid": "4a3edf51f146a7262f0eeeef8db3f4edf3e227fc"
   },
   "outputs": [
    {
     "name": "stdout",
     "output_type": "stream",
     "text": [
      "Grupo 3: \r\n",
      "\n"
     ]
    },
    {
     "data": {
      "text/plain": [
       "aisle\n",
       "fresh fruits                     2.966576\n",
       "fresh vegetables                 1.325393\n",
       "packaged vegetables fruits       0.923359\n",
       "milk                             0.344318\n",
       "packaged cheese                  0.317013\n",
       "soy lactosefree                  0.287449\n",
       "water seltzer sparkling water    0.274456\n",
       "frozen produce                   0.245645\n",
       "chips pretzels                   0.239996\n",
       "bread                            0.238396\n",
       "dtype: float64"
      ]
     },
     "execution_count": 37,
     "metadata": {},
     "output_type": "execute_result"
    }
   ],
   "source": [
    "print 'Grupo 3: \\r\\n'\n",
    "c3.sort_values(ascending=False)[0:10]"
   ]
  },
  {
   "cell_type": "markdown",
   "metadata": {
    "_cell_guid": "4850cf4d-a9de-4ceb-8806-79717b105261",
    "_uuid": "3577206029ef1e832f55a6720f6b31f612ed7e37"
   },
   "source": [
    "Un primer análisis de los grupos confirma la hipótesis inicial de que:\n",
    "\n",
    "* fresh fruits                     \n",
    "* fresh vegetables                 \n",
    "* packaged vegetables fruits       \n",
    "* yogurt                           \n",
    "* packaged cheese                   \n",
    "* milk                              \n",
    "* water seltzer sparkling water     \n",
    "* bread                    \n",
    "\n",
    "Son productos que genéricamente son **comprados por la mayoría de los clientes**.\n",
    "\n",
    "Lo que se puede ver aquí es que **los grupos difieren en cantidades y proporciones**, con respecto a estos productos, o si un grupo se caracteriza por algunos **productos que no están incluidos en esta lista**. \n",
    "\n",
    "Por ejemplo, ya podemos ver que el grupo 2 se caracteriza por \"Fórmula de alimentos para bebés\" 'producto que es una diferencia significativa con respecto a los otros grupos."
   ]
  },
  {
   "cell_type": "code",
   "execution_count": 38,
   "metadata": {
    "_cell_guid": "16a86bf0-44f9-423f-a0d5-191c40f22a23",
    "_execution_state": "idle",
    "_uuid": "737822117c2dd38280a64a9e1410228d7999a223"
   },
   "outputs": [
    {
     "data": {
      "text/html": [
       "<table border=\"1\" class=\"dataframe\">\n",
       "  <thead>\n",
       "    <tr style=\"text-align: right;\">\n",
       "      <th></th>\n",
       "      <th>fresh fruits</th>\n",
       "      <th>fresh vegetables</th>\n",
       "      <th>packaged vegetables fruits</th>\n",
       "      <th>yogurt</th>\n",
       "      <th>packaged cheese</th>\n",
       "      <th>milk</th>\n",
       "      <th>water seltzer sparkling water</th>\n",
       "      <th>chips pretzels</th>\n",
       "    </tr>\n",
       "  </thead>\n",
       "  <tbody>\n",
       "    <tr>\n",
       "      <th>0</th>\n",
       "      <td>0.735781</td>\n",
       "      <td>1.191141</td>\n",
       "      <td>0.540676</td>\n",
       "      <td>0.378858</td>\n",
       "      <td>0.344301</td>\n",
       "      <td>0.301047</td>\n",
       "      <td>0.310667</td>\n",
       "      <td>0.259563</td>\n",
       "    </tr>\n",
       "    <tr>\n",
       "      <th>1</th>\n",
       "      <td>1.563603</td>\n",
       "      <td>2.187132</td>\n",
       "      <td>1.066912</td>\n",
       "      <td>3.813603</td>\n",
       "      <td>0.808456</td>\n",
       "      <td>0.682353</td>\n",
       "      <td>0.581250</td>\n",
       "      <td>0.535294</td>\n",
       "    </tr>\n",
       "    <tr>\n",
       "      <th>2</th>\n",
       "      <td>2.850099</td>\n",
       "      <td>2.157791</td>\n",
       "      <td>1.159763</td>\n",
       "      <td>1.392505</td>\n",
       "      <td>0.881657</td>\n",
       "      <td>0.747535</td>\n",
       "      <td>0.412229</td>\n",
       "      <td>0.457594</td>\n",
       "    </tr>\n",
       "    <tr>\n",
       "      <th>3</th>\n",
       "      <td>2.966576</td>\n",
       "      <td>1.325393</td>\n",
       "      <td>0.923359</td>\n",
       "      <td>0.146973</td>\n",
       "      <td>0.317013</td>\n",
       "      <td>0.344318</td>\n",
       "      <td>0.274456</td>\n",
       "      <td>0.239996</td>\n",
       "    </tr>\n",
       "  </tbody>\n",
       "</table>"
      ],
      "text/plain": [
       "<IPython.core.display.HTML object>"
      ]
     },
     "execution_count": 38,
     "metadata": {},
     "output_type": "execute_result"
    }
   ],
   "source": [
    "from IPython.display import display, HTML\n",
    "cluster_means = [[c0['fresh fruits'],c0['fresh vegetables'],c0['packaged vegetables fruits'], c0['yogurt'], c0['packaged cheese'], c0['milk'],c0['water seltzer sparkling water'],c0['chips pretzels']],\n",
    "                 [c1['fresh fruits'],c1['fresh vegetables'],c1['packaged vegetables fruits'], c1['yogurt'], c1['packaged cheese'], c1['milk'],c1['water seltzer sparkling water'],c1['chips pretzels']],\n",
    "                 [c2['fresh fruits'],c2['fresh vegetables'],c2['packaged vegetables fruits'], c2['yogurt'], c2['packaged cheese'], c2['milk'],c2['water seltzer sparkling water'],c2['chips pretzels']],\n",
    "                 [c3['fresh fruits'],c3['fresh vegetables'],c3['packaged vegetables fruits'], c3['yogurt'], c3['packaged cheese'], c3['milk'],c3['water seltzer sparkling water'],c3['chips pretzels']]]\n",
    "cluster_means = pd.DataFrame(cluster_means, columns = ['fresh fruits','fresh vegetables','packaged vegetables fruits','yogurt','packaged cheese','milk','water seltzer sparkling water','chips pretzels'])\n",
    "HTML(cluster_means.to_html())"
   ]
  },
  {
   "cell_type": "code",
   "execution_count": 39,
   "metadata": {
    "_cell_guid": "56ddffcc-0053-46ce-9624-965236d83a3c",
    "_execution_state": "idle",
    "_uuid": "e44f6ae7735dabbbdac46091daee1c6fc2fcbc6a"
   },
   "outputs": [
    {
     "data": {
      "text/html": [
       "<table border=\"1\" class=\"dataframe\">\n",
       "  <thead>\n",
       "    <tr style=\"text-align: right;\">\n",
       "      <th></th>\n",
       "      <th>fresh fruits</th>\n",
       "      <th>fresh vegetables</th>\n",
       "      <th>packaged vegetables fruits</th>\n",
       "      <th>yogurt</th>\n",
       "      <th>packaged cheese</th>\n",
       "      <th>milk</th>\n",
       "      <th>water seltzer sparkling water</th>\n",
       "      <th>chips pretzels</th>\n",
       "    </tr>\n",
       "  </thead>\n",
       "  <tbody>\n",
       "    <tr>\n",
       "      <th>0</th>\n",
       "      <td>18.113608</td>\n",
       "      <td>29.323771</td>\n",
       "      <td>13.310470</td>\n",
       "      <td>9.326803</td>\n",
       "      <td>8.476070</td>\n",
       "      <td>7.411232</td>\n",
       "      <td>7.648073</td>\n",
       "      <td>6.389973</td>\n",
       "    </tr>\n",
       "    <tr>\n",
       "      <th>1</th>\n",
       "      <td>13.912787</td>\n",
       "      <td>19.460892</td>\n",
       "      <td>9.493278</td>\n",
       "      <td>33.933069</td>\n",
       "      <td>7.193562</td>\n",
       "      <td>6.071510</td>\n",
       "      <td>5.171906</td>\n",
       "      <td>4.762995</td>\n",
       "    </tr>\n",
       "    <tr>\n",
       "      <th>2</th>\n",
       "      <td>28.333333</td>\n",
       "      <td>21.450980</td>\n",
       "      <td>11.529412</td>\n",
       "      <td>13.843137</td>\n",
       "      <td>8.764706</td>\n",
       "      <td>7.431373</td>\n",
       "      <td>4.098039</td>\n",
       "      <td>4.549020</td>\n",
       "    </tr>\n",
       "    <tr>\n",
       "      <th>3</th>\n",
       "      <td>45.373771</td>\n",
       "      <td>20.271885</td>\n",
       "      <td>14.122780</td>\n",
       "      <td>2.247951</td>\n",
       "      <td>4.848720</td>\n",
       "      <td>5.266341</td>\n",
       "      <td>4.197808</td>\n",
       "      <td>3.670742</td>\n",
       "    </tr>\n",
       "  </tbody>\n",
       "</table>"
      ],
      "text/plain": [
       "<IPython.core.display.HTML object>"
      ]
     },
     "execution_count": 39,
     "metadata": {},
     "output_type": "execute_result"
    }
   ],
   "source": [
    "cluster_perc = cluster_means.iloc[:, :].apply(lambda x: (x / x.sum())*100,axis=1)\n",
    "HTML(cluster_perc.to_html())"
   ]
  },
  {
   "cell_type": "markdown",
   "metadata": {},
   "source": [
    "Esta tabla muestra **el porcentaje de estos productos con respecto a los otros 8 principales de cada grupo**. Es fácil algunas diferencias interesantes entre los grupos.\n",
    "\n",
    "Parece que la **gente del grupo 3 compra más verduras frescas que los otros grupos**. Como lo muestran los datos absolutos.\n",
    "\n",
    "Las personas **del grupo 1 compran más Yogurt** que las personas de los otros grupos.\n",
    "\n",
    "Las personas **del grupo 2** compran una gran cantidad de \"**Fórmula de alimentos para bebés**\" que ni siquiera figuran en los 8 mejores productos, pero caracterizan principalmente este grupo. En teoría con esta observación, **comprarán más leche que los demás**."
   ]
  },
  {
   "cell_type": "markdown",
   "metadata": {
    "_cell_guid": "efc90bd6-3a76-44d2-ac96-933d6503d0e4",
    "_uuid": "fa042f6ff86fdab35a3279f688a0bc3cc1a4aae1"
   },
   "source": [
    "Otra información interesante puede ser ver los productos más comprados **del 8 al 15 de cada grupo**, que no incluirán los productos genéricos (es decir, verduras, frutas, agua, etc.) comprados por nadie."
   ]
  },
  {
   "cell_type": "code",
   "execution_count": 40,
   "metadata": {
    "_cell_guid": "a2323aa8-7297-4061-8cd4-10ca2ceaf6f0",
    "_execution_state": "idle",
    "_uuid": "5e378a270d857f1f141570ca40f977e1c2ffd3d2"
   },
   "outputs": [
    {
     "data": {
      "text/plain": [
       "aisle\n",
       "soy lactosefree    0.215154\n",
       "bread              0.204957\n",
       "refrigerated       0.204187\n",
       "ice cream ice      0.193874\n",
       "frozen produce     0.171823\n",
       "eggs               0.160356\n",
       "crackers           0.159124\n",
       "dtype: float64"
      ]
     },
     "execution_count": 40,
     "metadata": {},
     "output_type": "execute_result"
    }
   ],
   "source": [
    "c0.sort_values(ascending=False)[8:15]"
   ]
  },
  {
   "cell_type": "code",
   "execution_count": 43,
   "metadata": {
    "_cell_guid": "b27733e1-29c6-4322-bd5d-9f38d6c1969b",
    "_execution_state": "idle",
    "_uuid": "7831588875c25e105f2fe8a6b895b10da753c867"
   },
   "outputs": [
    {
     "data": {
      "text/plain": [
       "aisle\n",
       "energy granola bars    0.496691\n",
       "refrigerated           0.481618\n",
       "soy lactosefree        0.430147\n",
       "bread                  0.426471\n",
       "crackers               0.344853\n",
       "ice cream ice          0.344118\n",
       "cereal                 0.324265\n",
       "dtype: float64"
      ]
     },
     "execution_count": 43,
     "metadata": {},
     "output_type": "execute_result"
    }
   ],
   "source": [
    "c1.sort_values(ascending=False)[8:15]"
   ]
  },
  {
   "cell_type": "code",
   "execution_count": 44,
   "metadata": {
    "_cell_guid": "a5786b6d-b809-4698-98fd-54ba23501f8e",
    "_execution_state": "idle",
    "_uuid": "55bf5e3e0f30af39708b35f8423ec7ab037751a6"
   },
   "outputs": [
    {
     "data": {
      "text/plain": [
       "aisle\n",
       "chips pretzels                   0.457594\n",
       "bread                            0.437870\n",
       "frozen produce                   0.420118\n",
       "water seltzer sparkling water    0.412229\n",
       "crackers                         0.402367\n",
       "refrigerated                     0.341223\n",
       "cereal                           0.321499\n",
       "dtype: float64"
      ]
     },
     "execution_count": 44,
     "metadata": {},
     "output_type": "execute_result"
    }
   ],
   "source": [
    "c2.sort_values(ascending=False)[8:15]"
   ]
  },
  {
   "cell_type": "code",
   "execution_count": 45,
   "metadata": {
    "_cell_guid": "a5448130-e915-4a5a-bf08-209bd8677123",
    "_execution_state": "idle",
    "_uuid": "9fa5ceed1a0889f7a3d977fed66112a0d9aad22d"
   },
   "outputs": [
    {
     "data": {
      "text/plain": [
       "aisle\n",
       "chips pretzels         0.239996\n",
       "bread                  0.238396\n",
       "refrigerated           0.210338\n",
       "packaged produce       0.199040\n",
       "eggs                   0.198945\n",
       "crackers               0.163638\n",
       "energy granola bars    0.162414\n",
       "dtype: float64"
      ]
     },
     "execution_count": 45,
     "metadata": {},
     "output_type": "execute_result"
    }
   ],
   "source": [
    "c3.sort_values(ascending=False)[8:15]"
   ]
  },
  {
   "cell_type": "markdown",
   "metadata": {
    "_cell_guid": "450f36fe-39ae-4822-9002-a4a5ba8695fd",
    "_uuid": "700b72d920b710f5b7ed1cf5f2702a05f25da020"
   },
   "source": [
    "Como se puede observar, los productos de los grupos comienzan a **diferir significativamente**. Espero que esta información sea útil en el proximo punto del proyecto de Fin de Master."
   ]
  },
  {
   "cell_type": "markdown",
   "metadata": {
    "_cell_guid": "c27f15fc-b7bf-4bd2-97c9-8c65c2fab6ba",
    "_execution_state": "idle",
    "_uuid": "52cbadfffd30d6ceb6382733eddf39e8bb3be64f",
    "collapsed": true
   },
   "source": [
    "## Ahora analisis con los departamentos\n",
    "Ademas de clusterizar usuarios basandome en los pasillos, voy a realizar otra clusterización por departamento para ver si me puede aportar información útil para el análisis."
   ]
  },
  {
   "cell_type": "code",
   "execution_count": 46,
   "metadata": {},
   "outputs": [
    {
     "name": "stdout",
     "output_type": "stream",
     "text": [
      "Rango del dataframe (39834, 21)\n"
     ]
    },
    {
     "data": {
      "text/html": [
       "<div>\n",
       "<style scoped>\n",
       "    .dataframe tbody tr th:only-of-type {\n",
       "        vertical-align: middle;\n",
       "    }\n",
       "\n",
       "    .dataframe tbody tr th {\n",
       "        vertical-align: top;\n",
       "    }\n",
       "\n",
       "    .dataframe thead th {\n",
       "        text-align: right;\n",
       "    }\n",
       "</style>\n",
       "<table border=\"1\" class=\"dataframe\">\n",
       "  <thead>\n",
       "    <tr style=\"text-align: right;\">\n",
       "      <th></th>\n",
       "      <th>0</th>\n",
       "      <th>1</th>\n",
       "      <th>2</th>\n",
       "      <th>3</th>\n",
       "      <th>4</th>\n",
       "      <th>5</th>\n",
       "    </tr>\n",
       "  </thead>\n",
       "  <tbody>\n",
       "    <tr>\n",
       "      <th>0</th>\n",
       "      <td>0.148710</td>\n",
       "      <td>-0.256128</td>\n",
       "      <td>0.316619</td>\n",
       "      <td>1.189911</td>\n",
       "      <td>-0.750626</td>\n",
       "      <td>-0.642727</td>\n",
       "    </tr>\n",
       "    <tr>\n",
       "      <th>1</th>\n",
       "      <td>-3.918901</td>\n",
       "      <td>-0.225941</td>\n",
       "      <td>-0.922711</td>\n",
       "      <td>-0.325929</td>\n",
       "      <td>-0.031086</td>\n",
       "      <td>1.088999</td>\n",
       "    </tr>\n",
       "    <tr>\n",
       "      <th>2</th>\n",
       "      <td>-2.107704</td>\n",
       "      <td>1.606258</td>\n",
       "      <td>-2.239194</td>\n",
       "      <td>0.836007</td>\n",
       "      <td>-0.629441</td>\n",
       "      <td>-0.356145</td>\n",
       "    </tr>\n",
       "    <tr>\n",
       "      <th>3</th>\n",
       "      <td>-2.360409</td>\n",
       "      <td>4.717012</td>\n",
       "      <td>1.424465</td>\n",
       "      <td>4.830325</td>\n",
       "      <td>-0.559423</td>\n",
       "      <td>-0.898022</td>\n",
       "    </tr>\n",
       "    <tr>\n",
       "      <th>4</th>\n",
       "      <td>-4.283036</td>\n",
       "      <td>-0.251262</td>\n",
       "      <td>0.992932</td>\n",
       "      <td>-1.086045</td>\n",
       "      <td>-1.090002</td>\n",
       "      <td>-0.222556</td>\n",
       "    </tr>\n",
       "  </tbody>\n",
       "</table>\n",
       "</div>"
      ],
      "text/plain": [
       "          0         1         2         3         4         5\n",
       "0  0.148710 -0.256128  0.316619  1.189911 -0.750626 -0.642727\n",
       "1 -3.918901 -0.225941 -0.922711 -0.325929 -0.031086  1.088999\n",
       "2 -2.107704  1.606258 -2.239194  0.836007 -0.629441 -0.356145\n",
       "3 -2.360409  4.717012  1.424465  4.830325 -0.559423 -0.898022\n",
       "4 -4.283036 -0.251262  0.992932 -1.086045 -1.090002 -0.222556"
      ]
     },
     "execution_count": 46,
     "metadata": {},
     "output_type": "execute_result"
    }
   ],
   "source": [
    "# Por Departamento\n",
    "cust_prod_dep = pd.crosstab(mt['user_id'], mt['department'])\n",
    "print 'Rango del dataframe', cust_prod_dep.shape\n",
    "cust_prod_dep.head(5)\n",
    "\n",
    "# Para reducir el número de funciones voy a emplear decomposition de la librería scikit-learn (sklearn)\n",
    "from sklearn.decomposition import PCA\n",
    "pca = PCA(n_components=6)\n",
    "pca.fit(cust_prod_dep)\n",
    "pca_samples = pca.transform(cust_prod_dep)\n",
    "# Tranformo la tabla a DataFrame\n",
    "ps = pd.DataFrame(pca_samples)\n",
    "ps.head()"
   ]
  },
  {
   "cell_type": "code",
   "execution_count": 48,
   "metadata": {},
   "outputs": [
    {
     "data": {
      "image/png": "[encoded data removed]",
      "text/plain": [
       "<Figure size 576x576 with 1 Axes>"
      ]
     },
     "metadata": {
      "needs_background": "light"
     },
     "output_type": "display_data"
    }
   ],
   "source": [
    "tocluster = pd.DataFrame(ps[[2,1]])\n",
    "#print (tocluster.shape)\n",
    "#print (tocluster.head())\n",
    "\n",
    "fig = plt.figure(figsize=(8,8))\n",
    "plt.plot(tocluster[2], tocluster[1], 'o', markersize=2, color='orange', alpha=0.5, label='class1')\n",
    "\n",
    "plt.xlabel('Eje X')\n",
    "plt.ylabel('Eje Y')\n",
    "plt.legend()\n",
    "plt.show()"
   ]
  },
  {
   "cell_type": "code",
   "execution_count": 49,
   "metadata": {},
   "outputs": [],
   "source": [
    "clusterer = KMeans(n_clusters=4,random_state=42).fit(tocluster)\n",
    "centers = clusterer.cluster_centers_\n",
    "c_preds = clusterer.predict(tocluster)"
   ]
  },
  {
   "cell_type": "code",
   "execution_count": 51,
   "metadata": {},
   "outputs": [
    {
     "data": {
      "image/png": "[encoded data removed]",
      "text/plain": [
       "<Figure size 576x576 with 1 Axes>"
      ]
     },
     "metadata": {
      "needs_background": "light"
     },
     "output_type": "display_data"
    }
   ],
   "source": [
    "fig = plt.figure(figsize=(8,8))\n",
    "colors = ['orange','blue','purple','green']\n",
    "colored = [colors[k] for k in c_preds]\n",
    "#print (colored[0:10])\n",
    "plt.scatter(tocluster[2],tocluster[1],  color = colored)\n",
    "for ci,c in enumerate(centers):\n",
    "    plt.plot(c[0], c[1], 'o', markersize=8, color='red', alpha=0.9, label=''+str(ci))\n",
    "\n",
    "plt.xlabel('Eje X')\n",
    "plt.ylabel('Eje Y')\n",
    "plt.legend()\n",
    "plt.show()"
   ]
  },
  {
   "cell_type": "code",
   "execution_count": 52,
   "metadata": {},
   "outputs": [
    {
     "name": "stdout",
     "output_type": "stream",
     "text": [
      "(39834, 22)\n"
     ]
    },
    {
     "data": {
      "image/png": "[encoded data removed]",
      "text/plain": [
       "<Figure size 432x432 with 4 Axes>"
      ]
     },
     "metadata": {
      "needs_background": "light"
     },
     "output_type": "display_data"
    }
   ],
   "source": [
    "clust_prod_dep = cust_prod_dep.copy()\n",
    "clust_prod_dep['cluster'] = c_preds\n",
    "\n",
    "#clust_prod_dep.head(5)\n",
    "\n",
    "print (clust_prod_dep.shape)\n",
    "f,arr = plt.subplots(2,2,sharex=True,figsize=(6,6))\n",
    "\n",
    "c1_count = len(clust_prod_dep[clust_prod_dep['cluster']==0])\n",
    "\n",
    "c0 = clust_prod_dep[clust_prod_dep['cluster']==0].drop('cluster',axis=1).mean()\n",
    "arr[0,0].bar(range(len(clust_prod_dep.drop('cluster',axis=1).columns)),c0)\n",
    "c1 = clust_prod_dep[clust_prod_dep['cluster']==1].drop('cluster',axis=1).mean()\n",
    "arr[0,1].bar(range(len(clust_prod_dep.drop('cluster',axis=1).columns)),c1)\n",
    "c2 = clust_prod_dep[clust_prod_dep['cluster']==2].drop('cluster',axis=1).mean()\n",
    "arr[1,0].bar(range(len(clust_prod_dep.drop('cluster',axis=1).columns)),c2)\n",
    "c3 = clust_prod_dep[clust_prod_dep['cluster']==3].drop('cluster',axis=1).mean()\n",
    "arr[1,1].bar(range(len(clust_prod_dep.drop('cluster',axis=1).columns)),c3)\n",
    "plt.show()"
   ]
  },
  {
   "cell_type": "code",
   "execution_count": 54,
   "metadata": {},
   "outputs": [
    {
     "name": "stdout",
     "output_type": "stream",
     "text": [
      "Grupo 0: \r\n",
      "\n",
      "department\n",
      "produce       2.245625\n",
      "dairy eggs    1.675157\n",
      "beverages     0.873403\n",
      "snacks        0.777397\n",
      "frozen        0.747740\n",
      "pantry        0.604266\n",
      "bakery        0.376898\n",
      "dtype: float64\n",
      "Grupo 1: \r\n",
      "\n",
      "department\n",
      "dairy eggs    6.956278\n",
      "produce       4.042922\n",
      "frozen        1.531058\n",
      "snacks        1.523594\n",
      "beverages     1.420688\n",
      "pantry        1.260197\n",
      "bakery        1.020794\n",
      "dtype: float64\n",
      "Grupo 2: \r\n",
      "\n",
      "department\n",
      "produce         6.413255\n",
      "dairy eggs      1.025425\n",
      "pantry          0.625537\n",
      "frozen          0.550383\n",
      "beverages       0.543279\n",
      "snacks          0.496168\n",
      "canned goods    0.441297\n",
      "dtype: float64\n",
      "Grupo 3: \r\n",
      "\n",
      "department\n",
      "snacks        5.475410\n",
      "produce       3.845287\n",
      "beverages     3.708333\n",
      "dairy eggs    3.106899\n",
      "frozen        2.168716\n",
      "pantry        1.251025\n",
      "bakery        0.857582\n",
      "dtype: float64\n"
     ]
    }
   ],
   "source": [
    "print 'Grupo 0: \\r\\n'\n",
    "print c0.sort_values(ascending=False)[0:7]\n",
    "\n",
    "print 'Grupo 1: \\r\\n'\n",
    "print c1.sort_values(ascending=False)[0:7]\n",
    "\n",
    "print 'Grupo 2: \\r\\n'\n",
    "print c2.sort_values(ascending=False)[0:7]\n",
    "\n",
    "print 'Grupo 3: \\r\\n'\n",
    "print c3.sort_values(ascending=False)[0:7]\n"
   ]
  },
  {
   "cell_type": "code",
   "execution_count": 56,
   "metadata": {},
   "outputs": [
    {
     "data": {
      "text/html": [
       "<table border=\"1\" class=\"dataframe\">\n",
       "  <thead>\n",
       "    <tr style=\"text-align: right;\">\n",
       "      <th></th>\n",
       "      <th>dairy eggs</th>\n",
       "      <th>beverages</th>\n",
       "      <th>produce</th>\n",
       "      <th>snacks</th>\n",
       "      <th>frozen</th>\n",
       "      <th>pantry</th>\n",
       "      <th>bakery</th>\n",
       "    </tr>\n",
       "  </thead>\n",
       "  <tbody>\n",
       "    <tr>\n",
       "      <th>0</th>\n",
       "      <td>2.245625</td>\n",
       "      <td>1.675157</td>\n",
       "      <td>0.873403</td>\n",
       "      <td>0.777397</td>\n",
       "      <td>0.747740</td>\n",
       "      <td>0.604266</td>\n",
       "      <td>0.376898</td>\n",
       "    </tr>\n",
       "    <tr>\n",
       "      <th>1</th>\n",
       "      <td>6.956278</td>\n",
       "      <td>4.042922</td>\n",
       "      <td>1.531058</td>\n",
       "      <td>1.523594</td>\n",
       "      <td>1.420688</td>\n",
       "      <td>1.260197</td>\n",
       "      <td>1.020794</td>\n",
       "    </tr>\n",
       "    <tr>\n",
       "      <th>2</th>\n",
       "      <td>6.413255</td>\n",
       "      <td>1.025425</td>\n",
       "      <td>0.625537</td>\n",
       "      <td>0.550383</td>\n",
       "      <td>0.543279</td>\n",
       "      <td>0.496168</td>\n",
       "      <td>0.441297</td>\n",
       "    </tr>\n",
       "    <tr>\n",
       "      <th>3</th>\n",
       "      <td>5.475410</td>\n",
       "      <td>3.845287</td>\n",
       "      <td>3.708333</td>\n",
       "      <td>3.106899</td>\n",
       "      <td>2.168716</td>\n",
       "      <td>1.251025</td>\n",
       "      <td>0.857582</td>\n",
       "    </tr>\n",
       "  </tbody>\n",
       "</table>"
      ],
      "text/plain": [
       "<IPython.core.display.HTML object>"
      ]
     },
     "execution_count": 56,
     "metadata": {},
     "output_type": "execute_result"
    }
   ],
   "source": [
    "#from IPython.display import display, HTML\n",
    "cluster_means_dep = [[c0['produce'],c0['dairy eggs'],c0['beverages'],c0['snacks'], c0['frozen'], c0['pantry'],c0['bakery']],\n",
    "                 [c1['dairy eggs'],c1['produce'],c1['frozen'], c1['snacks'], c1['beverages'], c1['pantry'],c1['bakery']],\n",
    "                 [c2['produce'],c2['dairy eggs'],c2['pantry'], c2['frozen'], c2['beverages'], c2['snacks'],c2['canned goods']],\n",
    "                 [c3['snacks'],c3['produce'],c3['beverages'], c3['dairy eggs'], c3['frozen'], c3['pantry'],c3['bakery']]]\n",
    "cluster_means_dep = pd.DataFrame(cluster_means_dep, columns = ['dairy eggs','beverages','produce','snacks','frozen','pantry','bakery'])\n",
    "HTML(cluster_means_dep.to_html())"
   ]
  },
  {
   "cell_type": "code",
   "execution_count": 57,
   "metadata": {},
   "outputs": [
    {
     "data": {
      "text/html": [
       "<table border=\"1\" class=\"dataframe\">\n",
       "  <thead>\n",
       "    <tr style=\"text-align: right;\">\n",
       "      <th></th>\n",
       "      <th>dairy eggs</th>\n",
       "      <th>beverages</th>\n",
       "      <th>produce</th>\n",
       "      <th>snacks</th>\n",
       "      <th>frozen</th>\n",
       "      <th>pantry</th>\n",
       "      <th>bakery</th>\n",
       "    </tr>\n",
       "  </thead>\n",
       "  <tbody>\n",
       "    <tr>\n",
       "      <th>0</th>\n",
       "      <td>30.759941</td>\n",
       "      <td>22.945830</td>\n",
       "      <td>11.963622</td>\n",
       "      <td>10.648563</td>\n",
       "      <td>10.242334</td>\n",
       "      <td>8.277065</td>\n",
       "      <td>5.162644</td>\n",
       "    </tr>\n",
       "    <tr>\n",
       "      <th>1</th>\n",
       "      <td>39.178090</td>\n",
       "      <td>22.769928</td>\n",
       "      <td>8.622994</td>\n",
       "      <td>8.580952</td>\n",
       "      <td>8.001381</td>\n",
       "      <td>7.097491</td>\n",
       "      <td>5.749163</td>\n",
       "    </tr>\n",
       "    <tr>\n",
       "      <th>2</th>\n",
       "      <td>63.526852</td>\n",
       "      <td>10.157407</td>\n",
       "      <td>6.196296</td>\n",
       "      <td>5.451852</td>\n",
       "      <td>5.381481</td>\n",
       "      <td>4.914815</td>\n",
       "      <td>4.371296</td>\n",
       "    </tr>\n",
       "    <tr>\n",
       "      <th>3</th>\n",
       "      <td>26.822821</td>\n",
       "      <td>18.837209</td>\n",
       "      <td>18.166304</td>\n",
       "      <td>15.220010</td>\n",
       "      <td>10.624059</td>\n",
       "      <td>6.128493</td>\n",
       "      <td>4.201104</td>\n",
       "    </tr>\n",
       "  </tbody>\n",
       "</table>"
      ],
      "text/plain": [
       "<IPython.core.display.HTML object>"
      ]
     },
     "execution_count": 57,
     "metadata": {},
     "output_type": "execute_result"
    }
   ],
   "source": [
    "cluster_perc = cluster_means_dep.iloc[:, :].apply(lambda x: (x / x.sum())*100,axis=1)\n",
    "HTML(cluster_perc.to_html())"
   ]
  },
  {
   "cell_type": "markdown",
   "metadata": {},
   "source": [
    "## Conclusiones:\n",
    "\n",
    "El **grupo 0** es el que más bebida y productos de despensa compra, posiblemente sus tiempos de reorden sean superiores\n",
    "El **Grupo 2** es el que mas huevos compra\n",
    "El **grupo 3** compra mas snacks y productos congelados por lo que se podría decir que tienen habitos de compra menos saludables y por tanto posiblemente comprarán menos frutas y verduras.\n",
    "\n",
    "Una vez visto el análisis no supervisado de productos por pasillo y departamento, se puede ver que **no se aprecian diferencias entre los grupos creados y no se pueden ver grupos claramente diferenciados**.\n",
    "\n",
    "En la **elaboración del modelo** que haré en el siguiente notebook utilizaré estas conclusiones para tratar de orientar el modelo predictivo."
   ]
  }
 ],
 "metadata": {
  "kernelspec": {
   "display_name": "Python 2",
   "language": "python",
   "name": "python2"
  },
  "language_info": {
   "codemirror_mode": {
    "name": "ipython",
    "version": 2
   },
   "file_extension": ".py",
   "mimetype": "text/x-python",
   "name": "python",
   "nbconvert_exporter": "python",
   "pygments_lexer": "ipython2",
   "version": "2.7.15"
  }
 },
 "nbformat": 4,
 "nbformat_minor": 1
}
